{
  "nbformat": 4,
  "nbformat_minor": 0,
  "metadata": {
    "colab": {
      "provenance": [],
      "include_colab_link": true
    },
    "kernelspec": {
      "name": "python3",
      "display_name": "Python 3"
    }
  },
  "cells": [
    {
      "cell_type": "markdown",
      "metadata": {
        "id": "view-in-github",
        "colab_type": "text"
      },
      "source": [
        "<a href=\"https://colab.research.google.com/github/vmtorresa/MetNumUN2024I/blob/main/Quiz_9.1_SymPy/Quiz_SymPy_vmtorresa.ipynb\" target=\"_parent\"><img src=\"https://colab.research.google.com/assets/colab-badge.svg\" alt=\"Open In Colab\"/></a>"
      ]
    },
    {
      "cell_type": "markdown",
      "source": [
        "# 1. Solve the using *LUsolve* from sympy the   2 $\\times$ 2 system $Ax=b$, inside the function *LUsolve_2_by_2_lin_sys* with\n",
        "\n",
        "$$A = \\left[\n",
        "  \\begin{array}{cc}\n",
        "e & i\\\\\n",
        " \\sqrt{2}& \\pi\n",
        "\\end{array}\n",
        "\\right]\n",
        "$$\n",
        "\n",
        "$$b  = \\left[\n",
        "  \\begin{array}{c}\n",
        "\\sqrt{3} \\\\\n",
        "1\n",
        "\\end{array}\n",
        "\\right]\n",
        "$$"
      ],
      "metadata": {
        "id": "Voh5FtIzbcn3"
      }
    },
    {
      "cell_type": "code",
      "source": [
        "from sympy import *\n",
        "init_printing()\n",
        "\n",
        "def LUsolve_2_by_2_lin_sys():\n",
        "\n",
        "  A = Matrix([[E,I],\n",
        "            [sqrt(2),pi]])\n",
        "  b = Matrix(2,1,[sqrt(3),1])\n",
        "\n",
        "  x = A.LUsolve(b)\n",
        "\n",
        "  print(x)\n",
        "\n",
        "  return x\n",
        "\n",
        "LUsolve_2_by_2_lin_sys()"
      ],
      "metadata": {
        "id": "2rXVy2w_Re5Z",
        "colab": {
          "base_uri": "https://localhost:8080/",
          "height": 119
        },
        "outputId": "fb3c0198-a835-47c1-c20b-3094efa3b2b6"
      },
      "execution_count": null,
      "outputs": [
        {
          "output_type": "stream",
          "name": "stdout",
          "text": [
            "Matrix([[(sqrt(3) - I*(-sqrt(6)*exp(-1) + 1)/(pi - sqrt(2)*I*exp(-1)))*exp(-1)], [(-sqrt(6)*exp(-1) + 1)/(pi - sqrt(2)*I*exp(-1))]])\n"
          ]
        },
        {
          "output_type": "execute_result",
          "data": {
            "text/plain": [
              "⎡⎛       ⎛      -1    ⎞⎞    ⎤\n",
              "⎢⎜     ⅈ⋅⎝- √6⋅ℯ   + 1⎠⎟  -1⎥\n",
              "⎢⎜√3 - ────────────────⎟⋅ℯ  ⎥\n",
              "⎢⎜                 -1  ⎟    ⎥\n",
              "⎢⎝       π - √2⋅ⅈ⋅ℯ    ⎠    ⎥\n",
              "⎢                           ⎥\n",
              "⎢             -1            ⎥\n",
              "⎢       - √6⋅ℯ   + 1        ⎥\n",
              "⎢       ────────────        ⎥\n",
              "⎢                 -1        ⎥\n",
              "⎣       π - √2⋅ⅈ⋅ℯ          ⎦"
            ],
            "text/latex": "$\\displaystyle \\left[\\begin{matrix}\\frac{\\sqrt{3} - \\frac{i \\left(- \\frac{\\sqrt{6}}{e} + 1\\right)}{\\pi - \\frac{\\sqrt{2} i}{e}}}{e}\\\\\\frac{- \\frac{\\sqrt{6}}{e} + 1}{\\pi - \\frac{\\sqrt{2} i}{e}}\\end{matrix}\\right]$"
          },
          "metadata": {},
          "execution_count": 1
        }
      ]
    },
    {
      "cell_type": "markdown",
      "source": [
        "# 2. Solve the using *solve* from sympy the   2 $\\times$ 2 system $Ax=b$, inside the function *solve_2_by_2_lin_sys* with\n",
        "\n",
        "$$A = \\left[\n",
        "  \\begin{array}{cc}\n",
        "e & i\\\\\n",
        " \\sqrt{2}& \\pi\n",
        "\\end{array}\n",
        "\\right]\n",
        "$$\n",
        "\n",
        "$$b  = \\left[\n",
        "  \\begin{array}{c}\n",
        "\\sqrt{3} \\\\\n",
        "1\n",
        "\\end{array}\n",
        "\\right]\n",
        "$$"
      ],
      "metadata": {
        "id": "zTeu2Yzicj0m"
      }
    },
    {
      "cell_type": "code",
      "source": [
        "from sympy import *\n",
        "init_printing()\n",
        "\n",
        "def solve_2_by_2_lin_sys():\n",
        "\n",
        "  A = Matrix([[E,I],\n",
        "              [sqrt(2),pi]])\n",
        "  b = Matrix(2,1,[sqrt(3),1])\n",
        "  x = Matrix(2,1,symbols('x1:3'))\n",
        "\n",
        "  x=linsolve(list(A@x-b),list(x))\n",
        "\n",
        "\n",
        "\n",
        "  return x\n",
        "\n",
        "solve_2_by_2_lin_sys()"
      ],
      "metadata": {
        "id": "56WRBbMTReea",
        "colab": {
          "base_uri": "https://localhost:8080/",
          "height": 68
        },
        "outputId": "289a70ea-a779-4bf4-88aa-fa57114f8ae0"
      },
      "execution_count": null,
      "outputs": [
        {
          "output_type": "execute_result",
          "data": {
            "text/plain": [
              "⎧⎛      √2⋅ⅈ           √6⋅π            2⋅√3           √2⋅ℯ    ⎞⎫\n",
              "⎨⎜- ──────────── + ────────────, - ──────────── + ────────────⎟⎬\n",
              "⎩⎝  √2⋅ℯ⋅π - 2⋅ⅈ   √2⋅ℯ⋅π - 2⋅ⅈ    √2⋅ℯ⋅π - 2⋅ⅈ   √2⋅ℯ⋅π - 2⋅ⅈ⎠⎭"
            ],
            "text/latex": "$\\displaystyle \\left\\{\\left( - \\frac{\\sqrt{2} i}{\\sqrt{2} e \\pi - 2 i} + \\frac{\\sqrt{6} \\pi}{\\sqrt{2} e \\pi - 2 i}, \\  - \\frac{2 \\sqrt{3}}{\\sqrt{2} e \\pi - 2 i} + \\frac{\\sqrt{2} e}{\\sqrt{2} e \\pi - 2 i}\\right)\\right\\}$"
          },
          "metadata": {},
          "execution_count": 6
        }
      ]
    },
    {
      "cell_type": "code",
      "source": [],
      "metadata": {
        "colab": {
          "base_uri": "https://localhost:8080/",
          "height": 68
        },
        "id": "3IdqoKaThyKj",
        "outputId": "b060cf8b-8bc9-4c62-987e-fe872f61d37f"
      },
      "execution_count": null,
      "outputs": [
        {
          "output_type": "execute_result",
          "data": {
            "text/plain": [
              "⎧                                                2                          2 \n",
              "⎪               E⋅I⋅π                      √3⋅E⋅π                       √2⋅I  \n",
              "⎨x: - ───────────────────────── + ───────────────────────── + ────────────────\n",
              "⎪      2  2                   2    2  2                   2    2  2           \n",
              "⎩     E ⋅π  - 2⋅√2⋅E⋅I⋅π + 2⋅I    E ⋅π  - 2⋅√2⋅E⋅I⋅π + 2⋅I    E ⋅π  - 2⋅√2⋅E⋅I\n",
              "\n",
              "                                                                 ⎫\n",
              "                      √6⋅I⋅π                  E            √6    ⎪\n",
              "───────── - ─────────────────────────, y: ────────── - ──────────⎬\n",
              "        2    2  2                   2     E⋅π - √2⋅I   E⋅π - √2⋅I⎪\n",
              "⋅π + 2⋅I    E ⋅π  - 2⋅√2⋅E⋅I⋅π + 2⋅I                             ⎭"
            ],
            "text/latex": "$\\displaystyle \\left\\{ x : - \\frac{E I \\pi}{E^{2} \\pi^{2} - 2 \\sqrt{2} E I \\pi + 2 I^{2}} + \\frac{\\sqrt{3} E \\pi^{2}}{E^{2} \\pi^{2} - 2 \\sqrt{2} E I \\pi + 2 I^{2}} + \\frac{\\sqrt{2} I^{2}}{E^{2} \\pi^{2} - 2 \\sqrt{2} E I \\pi + 2 I^{2}} - \\frac{\\sqrt{6} I \\pi}{E^{2} \\pi^{2} - 2 \\sqrt{2} E I \\pi + 2 I^{2}}, \\  y : \\frac{E}{E \\pi - \\sqrt{2} I} - \\frac{\\sqrt{6}}{E \\pi - \\sqrt{2} I}\\right\\}$"
          },
          "metadata": {},
          "execution_count": 15
        }
      ]
    }
  ]
}